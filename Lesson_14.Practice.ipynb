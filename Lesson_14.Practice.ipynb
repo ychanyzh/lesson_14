{
 "cells": [
  {
   "cell_type": "markdown",
   "metadata": {},
   "source": [
    "1. Create add method to add two countries together. This method should create another country object with the name of the two countries combined and population of the two countries added together."
   ]
  },
  {
   "cell_type": "code",
   "execution_count": 1,
   "metadata": {},
   "outputs": [
    {
     "name": "stdout",
     "output_type": "stream",
     "text": [
      "15000000\n",
      "Bosnia Herzegovina\n"
     ]
    }
   ],
   "source": [
    "class Country:\n",
    "    def __init__(self, name, population):\n",
    "        self.name = name\n",
    "        self.population = population\n",
    "        \n",
    "    def add(self, other_country):\n",
    "        new_name = f'{self.name} {other_country.name}'\n",
    "        new_population = self.population + other_country.population\n",
    "        new_country = Country(new_name, new_population)\n",
    "        return new_country\n",
    "\n",
    "# Create two country objects\n",
    "bosnia = Country('Bosnia', 10_000_000)\n",
    "herzegovina = Country('Herzegovina', 5_000_000)\n",
    "\n",
    "# Add the two countries together\n",
    "bosnia_herzegovina = bosnia.add(herzegovina)\n",
    "\n",
    "# Test the results\n",
    "print(bosnia_herzegovina.population)  # Output: 15_000_000\n",
    "print(bosnia_herzegovina.name)  # Output: 'Bosnia Herzegovina'\n"
   ]
  },
  {
   "cell_type": "markdown",
   "metadata": {},
   "source": [
    "2. Implement previous method with magic method"
   ]
  },
  {
   "cell_type": "code",
   "execution_count": 2,
   "metadata": {},
   "outputs": [
    {
     "name": "stdout",
     "output_type": "stream",
     "text": [
      "15000000\n",
      "Bosnia Herzegovina\n"
     ]
    }
   ],
   "source": [
    "class Country:\n",
    "    def __init__(self, name, population):\n",
    "        self.name = name\n",
    "        self.population = population\n",
    "        \n",
    "    def __add__(self, other_country):\n",
    "        new_name = f\"{self.name} {other_country.name}\"\n",
    "        new_population = self.population + other_country.population\n",
    "        new_country = Country(new_name, new_population)\n",
    "        return new_country\n",
    "\n",
    "# Create two country objects\n",
    "bosnia = Country('Bosnia', 10_000_000)\n",
    "herzegovina = Country('Herzegovina', 5_000_000)\n",
    "\n",
    "# Add the two countries together\n",
    "bosnia_herzegovina = bosnia + herzegovina\n",
    "\n",
    "# Test the results\n",
    "print(bosnia_herzegovina.population)  # Output: 15_000_000\n",
    "print(bosnia_herzegovina.name)  # Output: 'Bosnia Herzegovina'\n"
   ]
  },
  {
   "cell_type": "markdown",
   "metadata": {},
   "source": [
    "3. Create a Car class with the following attributes: brand, model, year, and speed. The Car class should have the following methods: accelerate, brake and display_speed. The accelerate method should increase the speed by 5, and the brake method should decrease the speed by 5. Remember that the speed cannot be negative."
   ]
  },
  {
   "cell_type": "code",
   "execution_count": 5,
   "metadata": {},
   "outputs": [
    {
     "name": "stdout",
     "output_type": "stream",
     "text": [
      "The current speed of the 2015 Nissan GT-R is 5 mph.\n",
      "The current speed of the 2015 Nissan GT-R is 10 mph.\n",
      "The current speed of the 2015 Nissan GT-R is 5 mph.\n",
      "The current speed of the 2015 Nissan GT-R is 0 mph.\n"
     ]
    }
   ],
   "source": [
    "class Car:\n",
    "    def __init__(self, brand, model, year):\n",
    "        self.brand = brand\n",
    "        self.model = model\n",
    "        self.year = year\n",
    "        self.speed = 0\n",
    "    \n",
    "    def accelerate(self):\n",
    "        self.speed += 5\n",
    "    \n",
    "    def brake(self):\n",
    "        if self.speed >= 5:\n",
    "            self.speed -= 5\n",
    "        else:\n",
    "            self.speed = 0\n",
    "    \n",
    "    def display_speed(self):\n",
    "        print(f'The current speed of the {self.year} {self.brand} {self.model} is {self.speed} mph.')\n",
    "\n",
    "# Example usage\n",
    "my_car = Car('Nissan', 'GT-R', 2015)\n",
    "my_car.accelerate()\n",
    "my_car.display_speed()\n",
    "my_car.accelerate()\n",
    "my_car.display_speed()\n",
    "my_car.brake()\n",
    "my_car.display_speed()\n",
    "my_car.brake()\n",
    "my_car.display_speed()\n"
   ]
  },
  {
   "cell_type": "markdown",
   "metadata": {},
   "source": [
    "4. Create a Robot class with the following attributes: orientation, position_x, position_y. The Robot class should have the following methods: move, turn, and display_position. The move method should take a number of steps and move the robot in the direction it is currently facing. The turn method should take a direction (left or right) and turn the robot in that direction. The display_position method should print the current position of the robot."
   ]
  },
  {
   "cell_type": "code",
   "execution_count": 6,
   "metadata": {},
   "outputs": [
    {
     "name": "stdout",
     "output_type": "stream",
     "text": [
      "Position: (0, 0), Orientation: North\n",
      "Position: (2, 3), Orientation: East\n"
     ]
    }
   ],
   "source": [
    "class Robot:\n",
    "    def __init__(self, orientation='North', position_x=0, position_y=0):\n",
    "        self.orientation = orientation\n",
    "        self.position_x = position_x\n",
    "        self.position_y = position_y\n",
    "\n",
    "    def move(self, steps):\n",
    "        if self.orientation == 'North':\n",
    "            self.position_y += steps\n",
    "        elif self.orientation == 'East':\n",
    "            self.position_x += steps\n",
    "        elif self.orientation == 'South':\n",
    "            self.position_y -= steps\n",
    "        elif self.orientation == 'West':\n",
    "            self.position_x -= steps\n",
    "\n",
    "    def turn(self, direction):\n",
    "        if direction == 'left':\n",
    "            directions = ['North', 'West', 'South', 'East']\n",
    "        elif direction == 'right':\n",
    "            directions = ['North', 'East', 'South', 'West']\n",
    "        current_index = directions.index(self.orientation)\n",
    "        self.orientation = directions[(current_index + 1) % 4]\n",
    "\n",
    "    def display_position(self):\n",
    "        print(f'Position: ({self.position_x}, {self.position_y}), Orientation: {self.orientation}')\n",
    "\n",
    "\n",
    "# Example usage\n",
    "robot = Robot()\n",
    "robot.display_position()  # Initial position: (0, 0), Orientation: North\n",
    "\n",
    "robot.move(3)\n",
    "robot.turn(\"left\")\n",
    "robot.move(2)\n",
    "robot.display_position()  # Position: (2, 3), Orientation: East\n"
   ]
  }
 ],
 "metadata": {
  "kernelspec": {
   "display_name": "base",
   "language": "python",
   "name": "python3"
  },
  "language_info": {
   "codemirror_mode": {
    "name": "ipython",
    "version": 3
   },
   "file_extension": ".py",
   "mimetype": "text/x-python",
   "name": "python",
   "nbconvert_exporter": "python",
   "pygments_lexer": "ipython3",
   "version": "3.10.9"
  },
  "orig_nbformat": 4
 },
 "nbformat": 4,
 "nbformat_minor": 2
}
